{
 "cells": [
  {
   "cell_type": "markdown",
   "id": "89182d1f-e147-4073-84ab-a07873177c15",
   "metadata": {},
   "source": [
    "# Desafio Final - Módulo 2 - Modelo Preditivo para Derrame Cerebral"
   ]
  },
  {
   "cell_type": "code",
   "execution_count": 1,
   "id": "21efcd9b-3786-40c2-82c8-a7d9afaa8880",
   "metadata": {},
   "outputs": [
    {
     "data": {
      "text/plain": [
       "'3.2.1'"
      ]
     },
     "execution_count": 1,
     "metadata": {},
     "output_type": "execute_result"
    }
   ],
   "source": [
    "from pyspark.sql import SparkSession\n",
    "\n",
    "spark = SparkSession \\\n",
    "        .builder \\\n",
    "        .appName(\"Desafio Final - Módulo 2 - Modelo Preditivo para Derrame Cerebral\") \\\n",
    "        .getOrCreate()\n",
    "    \n",
    "spark.version"
   ]
  },
  {
   "cell_type": "code",
   "execution_count": 2,
   "id": "ae68af3b-7b4a-4b3b-bdab-50b646cc994f",
   "metadata": {},
   "outputs": [
    {
     "name": "stdout",
     "output_type": "stream",
     "text": [
      "root\n",
      " |-- 0: integer (nullable = true)\n",
      " |-- gender: string (nullable = true)\n",
      " |-- age: double (nullable = true)\n",
      " |-- hypertension: integer (nullable = true)\n",
      " |-- heart_disease: integer (nullable = true)\n",
      " |-- ever_married: string (nullable = true)\n",
      " |-- work_type: string (nullable = true)\n",
      " |-- Residence_type: string (nullable = true)\n",
      " |-- avg_glucose_level: double (nullable = true)\n",
      " |-- bmi: double (nullable = true)\n",
      " |-- smoking_status: string (nullable = true)\n",
      " |-- stroke: integer (nullable = true)\n",
      "\n"
     ]
    }
   ],
   "source": [
    "# Lendo o arquivo com os dados dos pacientes\n",
    "patient_df = spark.read.csv(\"/home/jovyan/work/stroke_data.csv\", header=True, inferSchema=True)\n",
    "patient_df.printSchema()"
   ]
  },
  {
   "cell_type": "code",
   "execution_count": 3,
   "id": "dd39d61b-d148-4039-a950-3eab7131eee6",
   "metadata": {},
   "outputs": [
    {
     "name": "stdout",
     "output_type": "stream",
     "text": [
      "+---+------+----+------------+-------------+------------+-------------+--------------+-----------------+-----+---------------+------+\n",
      "|  0|gender| age|hypertension|heart_disease|ever_married|    work_type|Residence_type|avg_glucose_level|  bmi| smoking_status|stroke|\n",
      "+---+------+----+------------+-------------+------------+-------------+--------------+-----------------+-----+---------------+------+\n",
      "|  1|Female|18.0|           0|            0|          No|      Private|         Urban|            94.19|12.12|         smokes|     1|\n",
      "|  2|  Male|58.0|           1|            0|         Yes|      Private|         Rural|           154.24| 33.7|   never_smoked|     0|\n",
      "|  3|Female|36.0|           0|            0|         Yes|     Govt_job|         Urban|            72.63| 24.7|         smokes|     0|\n",
      "|  4|Female|62.0|           0|            0|         Yes|Self-employed|         Rural|            85.52| 31.2|formerly smoked|     0|\n",
      "|  5|Female|82.0|           0|            0|         Yes|      Private|         Rural|            59.32| 33.2|         smokes|     1|\n",
      "|  6|Female|82.0|           0|            0|          No|     Govt_job|         Urban|            234.5| 24.0|formerly smoked|     0|\n",
      "|  7|Female|33.0|           0|            0|         Yes|Self-employed|         Urban|           193.42| 29.9|         smokes|     0|\n",
      "|  8|Female|37.0|           0|            0|         Yes|      Private|         Rural|            156.7| 36.9|         smokes|     1|\n",
      "|  9|Female|41.0|           0|            0|         Yes|     Govt_job|         Rural|            64.06| 33.8|         smokes|     1|\n",
      "| 10|Female|70.0|           0|            0|         Yes|Self-employed|         Rural|            76.34| 24.4|formerly smoked|     1|\n",
      "+---+------+----+------------+-------------+------------+-------------+--------------+-----------------+-----+---------------+------+\n",
      "only showing top 10 rows\n",
      "\n"
     ]
    }
   ],
   "source": [
    "patient_df.show(10)"
   ]
  },
  {
   "cell_type": "code",
   "execution_count": 4,
   "id": "664d0c0e-d9f5-4d4c-9adc-02a3fbeb6c36",
   "metadata": {},
   "outputs": [
    {
     "name": "stdout",
     "output_type": "stream",
     "text": [
      "+---+------+---+------------+-------------+------------+---------+--------------+-----------------+---+--------------+------+\n",
      "|  0|gender|age|hypertension|heart_disease|ever_married|work_type|Residence_type|avg_glucose_level|bmi|smoking_status|stroke|\n",
      "+---+------+---+------------+-------------+------------+---------+--------------+-----------------+---+--------------+------+\n",
      "+---+------+---+------------+-------------+------------+---------+--------------+-----------------+---+--------------+------+\n",
      "\n"
     ]
    }
   ],
   "source": [
    "# Retorna os registros nulos para os campos idedntificados\n",
    "from pyspark.sql.functions import col\n",
    "\n",
    "dataNull = patient_df.filter(col(\"gender\").isNull() | col(\"age\").isNull() | col(\"hypertension\").isNull() | col(\"heart_disease\").isNull() | col(\"ever_married\").isNull() | col(\"work_type\").isNull() | col(\"Residence_type\").isNull() | col(\"avg_glucose_level\").isNull() | col(\"bmi\").isNull() | col(\"smoking_status\").isNull() | col(\"stroke\").isNull())\n",
    "\n",
    "dataNull.show(100)"
   ]
  },
  {
   "cell_type": "markdown",
   "id": "2cf4cb73-b3d3-4831-a546-0a5c72ec14e5",
   "metadata": {},
   "source": [
    "## Pergunta 1 - Quantos registros existem no arquivo"
   ]
  },
  {
   "cell_type": "code",
   "execution_count": 5,
   "id": "d117b331-1cc4-4861-9b94-6b6018f823bc",
   "metadata": {},
   "outputs": [
    {
     "name": "stdout",
     "output_type": "stream",
     "text": [
      "Total de registros: 67135\n"
     ]
    }
   ],
   "source": [
    "print(f\"Total de registros: {patient_df.count()}\")"
   ]
  },
  {
   "cell_type": "markdown",
   "id": "34ad97a0-5ef5-4c01-885f-4e89c80ef133",
   "metadata": {},
   "source": [
    "## Pergunta 2 - Quantas colunas existem no arquivo? Quantas são númericas?"
   ]
  },
  {
   "cell_type": "code",
   "execution_count": 6,
   "id": "e9fb977f-8c9f-43b6-9ad4-5084995a56a0",
   "metadata": {},
   "outputs": [
    {
     "name": "stdout",
     "output_type": "stream",
     "text": [
      "Total de colunas: 12\n",
      "Total de colunas númericas: 7\n"
     ]
    }
   ],
   "source": [
    "# Quantas colunas existem no arquivo\n",
    "print(f\"Total de colunas: {len(patient_df.columns)}\")\n",
    "# Quantas colunas são númericas\n",
    "print(f\"Total de colunas númericas: {len([coluna[1] for coluna in patient_df.dtypes if coluna[1] in ['int', 'double']])}\")"
   ]
  },
  {
   "cell_type": "markdown",
   "id": "f711db46-08f3-4369-ba94-61bd214f19a2",
   "metadata": {},
   "source": [
    "## Pergunta 3 - Quantos pacientes sofream e não sofreram derrame (stroke)\n",
    "##### 1 para quem sofreu derrame (stroke) e 0 para quem não sofreu"
   ]
  },
  {
   "cell_type": "code",
   "execution_count": 7,
   "id": "cb447a1d-0fa4-4c08-aa32-cb76d6e304a3",
   "metadata": {},
   "outputs": [
    {
     "name": "stdout",
     "output_type": "stream",
     "text": [
      "+------+-----+\n",
      "|stroke|count|\n",
      "+------+-----+\n",
      "|     1|40287|\n",
      "|     0|26848|\n",
      "+------+-----+\n",
      "\n"
     ]
    }
   ],
   "source": [
    "patient_df.groupBy(\"stroke\").count().show()"
   ]
  },
  {
   "cell_type": "markdown",
   "id": "13ed816c-99f4-48d2-b651-51646534cdbc",
   "metadata": {},
   "source": [
    "## Pergunta 4 - Quantos pacientes sofreram derrame e trabalhavam respectivamente, no setor privado, de forma independente, no governo e quantas são crianças"
   ]
  },
  {
   "cell_type": "code",
   "execution_count": 8,
   "id": "c57452a2-1536-499b-885d-18ae2b040cfd",
   "metadata": {},
   "outputs": [],
   "source": [
    "from pyspark.sql import *\n",
    "\n",
    "patient_df.createOrReplaceTempView('table')"
   ]
  },
  {
   "cell_type": "code",
   "execution_count": 9,
   "id": "1fc4587b-5516-447b-a59a-b240d63b2baf",
   "metadata": {},
   "outputs": [
    {
     "name": "stdout",
     "output_type": "stream",
     "text": [
      "+-------------+----------------+\n",
      "|    work_type|count(work_type)|\n",
      "+-------------+----------------+\n",
      "|      Private|           23711|\n",
      "|Self-employed|           10807|\n",
      "|     Govt_job|            5164|\n",
      "|     children|             520|\n",
      "| Never_worked|              85|\n",
      "+-------------+----------------+\n",
      "\n"
     ]
    }
   ],
   "source": [
    "spark.sql('SELECT work_type, count(work_type) FROM table WHERE stroke = 1 GROUP BY work_type ORDER BY count(*) DESC').show()"
   ]
  },
  {
   "cell_type": "markdown",
   "id": "a74a0d91-8a4c-49fc-935b-2cf8cc739eec",
   "metadata": {},
   "source": [
    "## Pergunta 5 - Escreva uma consulta com spark.sql para determinar a proporção, por genêro, de participantes do estudo"
   ]
  },
  {
   "cell_type": "code",
   "execution_count": 10,
   "id": "f320823c-e84a-4954-8d7a-d4fb424d904a",
   "metadata": {},
   "outputs": [
    {
     "name": "stdout",
     "output_type": "stream",
     "text": [
      "+------+-------------+\n",
      "|gender|count(gender)|\n",
      "+------+-------------+\n",
      "|Female|        39530|\n",
      "| Other|           11|\n",
      "|  Male|        27594|\n",
      "+------+-------------+\n",
      "\n"
     ]
    }
   ],
   "source": [
    "spark.sql('SELECT gender, count(gender) FROM table GROUP BY gender').show()"
   ]
  },
  {
   "cell_type": "markdown",
   "id": "f940dccf-4c55-4a89-92a0-6e385e994da8",
   "metadata": {},
   "source": [
    "## Pergunta 6 - Quem tem mais probabilidade de sofrer derrame: hipertensos ou não-hipertensos"
   ]
  },
  {
   "cell_type": "code",
   "execution_count": 11,
   "id": "64d259e7-7809-42e7-b315-cf59b883eb55",
   "metadata": {},
   "outputs": [
    {
     "name": "stdout",
     "output_type": "stream",
     "text": [
      "A probabilidade de hipertensos ter derrame foi de 80.03%\n",
      "A probabilidade de não hipertensos ter derrame foi de 56.08%\n"
     ]
    }
   ],
   "source": [
    "# Hipertensos\n",
    "data_hypertension = spark.sql('SELECT stroke, count(stroke) as qtd FROM table WHERE hypertension = 1 GROUP BY stroke')\n",
    "stroke = data_hypertension.select('qtd').where('stroke = 1').collect()[0][0]\n",
    "no_stroke = data_hypertension.select('qtd').where('stroke = 0').collect()[0][0]\n",
    "\n",
    "prob_stroke_hypertension = stroke / (stroke + no_stroke) * 100\n",
    "print(f\"A probabilidade de hipertensos ter derrame foi de {prob_stroke_hypertension:.2f}%\")\n",
    "\n",
    "# Não Hipertensos\n",
    "data_no_hypertension = spark.sql('SELECT stroke, count(stroke) as qtd FROM table WHERE hypertension = 0 GROUP BY stroke')\n",
    "stroke = data_no_hypertension.select('qtd').where('stroke = 1').collect()[0][0]\n",
    "no_stroke = data_no_hypertension.select('qtd').where('stroke = 0').collect()[0][0]\n",
    "\n",
    "prob_stroke_no_hypertension = stroke / (stroke + no_stroke) * 100\n",
    "print(f\"A probabilidade de não hipertensos ter derrame foi de {prob_stroke_no_hypertension:.2f}%\")"
   ]
  },
  {
   "cell_type": "markdown",
   "id": "311220cb-ea24-42bf-89f1-49b6592e3330",
   "metadata": {},
   "source": [
    "## Pergunta 7 - Com qual idade o maior número de pessoas do conjunto de dados sofreu derrame?"
   ]
  },
  {
   "cell_type": "code",
   "execution_count": 12,
   "id": "0150da8d-914d-457c-a037-886e7fc8ac8c",
   "metadata": {},
   "outputs": [
    {
     "name": "stdout",
     "output_type": "stream",
     "text": [
      "+----+----------+\n",
      "| age|count(age)|\n",
      "+----+----------+\n",
      "|79.0|      2916|\n",
      "+----+----------+\n",
      "only showing top 1 row\n",
      "\n"
     ]
    }
   ],
   "source": [
    "spark.sql('SELECT age, count(age) FROM table WHERE stroke = 1 GROUP BY age ORDER BY COUNT(age) DESC').show(1)"
   ]
  },
  {
   "cell_type": "markdown",
   "id": "f11633bf-367e-4b72-9161-d852cf6badf7",
   "metadata": {},
   "source": [
    "## Pergunta 8 - Usando a API de dataframes, determine quantas pessoas sofreram derrames após os 50 anos"
   ]
  },
  {
   "cell_type": "code",
   "execution_count": 13,
   "id": "7b47707c-80b3-4c07-b09a-3e1f59e7abfd",
   "metadata": {},
   "outputs": [
    {
     "data": {
      "text/plain": [
       "28938"
      ]
     },
     "execution_count": 13,
     "metadata": {},
     "output_type": "execute_result"
    }
   ],
   "source": [
    "patient_df.where('stroke = 1').where('age > 50').count()"
   ]
  },
  {
   "cell_type": "markdown",
   "id": "b400fc26-2a2f-4579-8585-41acefe2332b",
   "metadata": {},
   "source": [
    "## Pergunta 9 - Qual o mnível médio de glicose para pessoas que, respectivamente, sofrerame não sofreram derrame"
   ]
  },
  {
   "cell_type": "code",
   "execution_count": 14,
   "id": "e0878b8c-30c0-4ca9-acc0-f9d75f32aaaf",
   "metadata": {},
   "outputs": [
    {
     "name": "stdout",
     "output_type": "stream",
     "text": [
      "+------+------------------+\n",
      "|stroke|       glucose_avg|\n",
      "+------+------------------+\n",
      "|     1|119.95307046938272|\n",
      "|     0|103.60273130214506|\n",
      "+------+------------------+\n",
      "\n"
     ]
    }
   ],
   "source": [
    "spark.sql('SELECT stroke, AVG(avg_glucose_level) as glucose_avg FROM table GROUP BY stroke').show()"
   ]
  },
  {
   "cell_type": "markdown",
   "id": "ac8cc6bc-8786-4426-9abe-3e8afa940f96",
   "metadata": {},
   "source": [
    "## Qual é o BMI (IMC) médio de quem sofreu e não sofreu derrame"
   ]
  },
  {
   "cell_type": "code",
   "execution_count": 15,
   "id": "aa3be83f-8b56-4006-a1c4-f36be3c38cc6",
   "metadata": {},
   "outputs": [
    {
     "name": "stdout",
     "output_type": "stream",
     "text": [
      "+------+------------------+\n",
      "|stroke|          avg(bmi)|\n",
      "+------+------------------+\n",
      "|     1|29.942490629729495|\n",
      "|     0|27.989678933253657|\n",
      "+------+------------------+\n",
      "\n"
     ]
    }
   ],
   "source": [
    "patient_df.groupBy('stroke').avg('bmi').show()"
   ]
  },
  {
   "cell_type": "markdown",
   "id": "06184535-7018-43f9-9acd-786bec0f4cea",
   "metadata": {},
   "source": [
    "# Modelo de Árvorde de Decisão"
   ]
  },
  {
   "cell_type": "code",
   "execution_count": 16,
   "id": "a081d0d8-1730-4085-a1ab-233b800166d3",
   "metadata": {},
   "outputs": [
    {
     "name": "stdout",
     "output_type": "stream",
     "text": [
      "root\n",
      " |-- 0: integer (nullable = true)\n",
      " |-- gender: string (nullable = true)\n",
      " |-- age: double (nullable = true)\n",
      " |-- hypertension: integer (nullable = true)\n",
      " |-- heart_disease: integer (nullable = true)\n",
      " |-- ever_married: string (nullable = true)\n",
      " |-- work_type: string (nullable = true)\n",
      " |-- Residence_type: string (nullable = true)\n",
      " |-- avg_glucose_level: double (nullable = true)\n",
      " |-- bmi: double (nullable = true)\n",
      " |-- smoking_status: string (nullable = true)\n",
      " |-- stroke: integer (nullable = true)\n",
      "\n"
     ]
    }
   ],
   "source": [
    "patient_df.printSchema()"
   ]
  },
  {
   "cell_type": "code",
   "execution_count": 17,
   "id": "0cfcaee8-7d65-4e29-8495-8574bfc7596d",
   "metadata": {},
   "outputs": [],
   "source": [
    "from pyspark.ml.feature import StringIndexer, OneHotEncoder\n",
    "from pyspark.ml.feature import VectorAssembler\n",
    "from pyspark.ml.classification import DecisionTreeClassifier\n",
    "from pyspark.ml import Pipeline\n",
    "from pyspark.ml.evaluation import MulticlassClassificationEvaluator"
   ]
  },
  {
   "cell_type": "code",
   "execution_count": 18,
   "id": "f9e0c1bc-b025-4383-a71a-913edca02639",
   "metadata": {},
   "outputs": [],
   "source": [
    "# Colunas númericas\n",
    "numericCols = [\"age\", \"bmi\", \"hypertension\", \"heart_disease\", \"avg_glucose_level\"]\n",
    "\n",
    "# Todas as colunas\n",
    "allCols = numericCols\n",
    "\n",
    "# VectorAsssembler é um transformer\n",
    "# Transforma um dataframe com colunas e um vetor com colunas\n",
    "vecAssembler = VectorAssembler(inputCols=allCols, outputCol=\"features\")"
   ]
  },
  {
   "cell_type": "code",
   "execution_count": 19,
   "id": "ab76c87b-6210-4f32-a070-68c81800dd9e",
   "metadata": {},
   "outputs": [],
   "source": [
    "# Instanciar o modelo de aprendizado de máquina Árvore de Decisão\n",
    "dtc = DecisionTreeClassifier(labelCol='stroke',featuresCol='features')"
   ]
  },
  {
   "cell_type": "code",
   "execution_count": 20,
   "id": "f1cb53c1-c663-4aa7-bb20-0f90a3d16c10",
   "metadata": {},
   "outputs": [],
   "source": [
    "# Um pipeline é uma sequencia de estágios\n",
    "# É um estimador\n",
    "pipeline = Pipeline(stages=[vecAssembler, dtc])\n",
    "\n",
    "# Separa os dados em dados de treinamento e teste\n",
    "train_data,test_data = patient_df.randomSplit([0.7,0.3])\n",
    "\n",
    "# Pipeline é um estimador que recebe um dataframe e produz um Model\n",
    "pipelineModel = pipeline.fit(train_data)\n",
    "\n",
    "# Aplica o modelo do pipeline aos dados de teste\n",
    "predictionsDF = pipelineModel.transform(test_data)"
   ]
  },
  {
   "cell_type": "markdown",
   "id": "a1d7d4e2-0824-4dc0-a825-9741099fc112",
   "metadata": {},
   "source": [
    "## Pergunta 11 - Qual a acurácia de um modelo construído"
   ]
  },
  {
   "cell_type": "code",
   "execution_count": 21,
   "id": "34176b87-1e96-4b41-a032-3611b6a7d48a",
   "metadata": {},
   "outputs": [
    {
     "name": "stdout",
     "output_type": "stream",
     "text": [
      "Acurácia: 69.4576%\n"
     ]
    }
   ],
   "source": [
    "# acurácia: % de previsões corretas\n",
    "evaluator = MulticlassClassificationEvaluator(metricName=\"accuracy\", labelCol='stroke')\n",
    "print(f\"Acurácia: {evaluator.evaluate(predictionsDF) * 100:.4f}%\")"
   ]
  },
  {
   "cell_type": "markdown",
   "id": "63be3885-4df0-4576-8d5c-01935b666557",
   "metadata": {},
   "source": [
    "## Pergunta 12 - Adicione gênero e status de fumante. Verifique a acurácia do modelo"
   ]
  },
  {
   "cell_type": "code",
   "execution_count": 22,
   "id": "3afd4f88-f0a3-4ddf-b1b5-e6ce541462f9",
   "metadata": {},
   "outputs": [],
   "source": [
    "# Identifica as colunas categorias\n",
    "numericCols = [\"age\", \"bmi\", \"hypertension\", \"heart_disease\", \"avg_glucose_level\"]\n",
    "categoricalCols = [\"gender\", \"smoking_status\"]\n",
    "\n",
    "# Cria estimadores (que implementam fit()) que retornam funções que vão ser aplicadas para transformar o dataset\n",
    "stringIndexer = StringIndexer(inputCols=categoricalCols, outputCols=[x + \"Index\" for x in categoricalCols])\n",
    "# Divide cada dado da categoria em uma coluna e atribui 1 quando for sua ocorrência para o registro\n",
    "oneHotEncoder = OneHotEncoder(inputCols=stringIndexer.getOutputCols(), outputCols=[x + \"OHE\" for x in categoricalCols])"
   ]
  },
  {
   "cell_type": "code",
   "execution_count": 23,
   "id": "33913bed-84bd-499b-8237-50e740cd44c7",
   "metadata": {},
   "outputs": [],
   "source": [
    "# Todas as colunas\n",
    "allCols = [c + \"OHE\" for c in categoricalCols] + numericCols\n",
    "\n",
    "# VectorAsssembler é um transformer\n",
    "# Transforma um dataframe com colunas e um vetor com colunas\n",
    "vecAssembler = VectorAssembler(inputCols=allCols, outputCol=\"features\")"
   ]
  },
  {
   "cell_type": "code",
   "execution_count": 24,
   "id": "e9bdf28c-f946-413b-b5eb-59be25f9e592",
   "metadata": {},
   "outputs": [],
   "source": [
    "# Instanciar o modelo de aprendizado de máquina Árvore de Decisão\n",
    "dtc_category = DecisionTreeClassifier(labelCol='stroke',featuresCol='features')"
   ]
  },
  {
   "cell_type": "code",
   "execution_count": 25,
   "id": "e0ecdf34-9c9f-429c-9d57-2aa8433f375f",
   "metadata": {},
   "outputs": [],
   "source": [
    "# Um pipeline é uma sequencia de estágios\n",
    "# É um estimador\n",
    "pipeline_category = Pipeline(stages=[stringIndexer, oneHotEncoder, vecAssembler, dtc_category])\n",
    "\n",
    "# Separa os dados em dados de treinamento e teste\n",
    "train_data,test_data = patient_df.randomSplit([0.7,0.3])\n",
    "\n",
    "# Pipeline é um estimador que recebe um dataframe e produz um Model\n",
    "pipelineModel_category = pipeline_category.fit(train_data)\n",
    "\n",
    "# Aplica o modelo do pipeline aos dados de teste\n",
    "predictionsDF_category = pipelineModel_category.transform(test_data)"
   ]
  },
  {
   "cell_type": "code",
   "execution_count": 26,
   "id": "8c04e4ca-b0f2-4b74-9bd7-4a842b8dcf16",
   "metadata": {},
   "outputs": [
    {
     "name": "stdout",
     "output_type": "stream",
     "text": [
      "Acurácia: 83.4980%\n"
     ]
    }
   ],
   "source": [
    "evaluator_category = MulticlassClassificationEvaluator(metricName=\"accuracy\", predictionCol=\"prediction\", labelCol='stroke')\n",
    "print(f\"Acurácia: {evaluator_category.evaluate(predictionsDF_category) * 100:.4f}%\")"
   ]
  },
  {
   "cell_type": "markdown",
   "id": "8c40f8d1-89a8-47ab-926f-71f5f01be2fb",
   "metadata": {},
   "source": [
    "## Pergunta 13 - Qual dessas variáveis é mais importante no modelo de árvore de decisão que você construiu na questão 12"
   ]
  },
  {
   "cell_type": "code",
   "execution_count": 27,
   "id": "2cc9146e-902f-4db0-84e6-18a1a75e4f9c",
   "metadata": {},
   "outputs": [
    {
     "data": {
      "text/plain": [
       "5"
      ]
     },
     "execution_count": 27,
     "metadata": {},
     "output_type": "execute_result"
    }
   ],
   "source": [
    "dtc_category_model = pipelineModel_category.stages[3]\n",
    "\n",
    "dtc_category_model.depth"
   ]
  },
  {
   "cell_type": "code",
   "execution_count": 28,
   "id": "71bd64e3-900f-4045-8369-7150167ebba0",
   "metadata": {},
   "outputs": [
    {
     "data": {
      "text/plain": [
       "SparseVector(9, {2: 0.4829, 3: 0.3321, 4: 0.1722, 5: 0.0012, 6: 0.0046, 8: 0.0071})"
      ]
     },
     "execution_count": 28,
     "metadata": {},
     "output_type": "execute_result"
    }
   ],
   "source": [
    "dtc_category_model.featureImportances"
   ]
  },
  {
   "cell_type": "code",
   "execution_count": 29,
   "id": "e12d591f-9ad2-4bbb-83ac-d21d7302509d",
   "metadata": {},
   "outputs": [
    {
     "data": {
      "text/plain": [
       "['genderOHE',\n",
       " 'smoking_statusOHE',\n",
       " 'age',\n",
       " 'bmi',\n",
       " 'hypertension',\n",
       " 'heart_disease',\n",
       " 'avg_glucose_level']"
      ]
     },
     "execution_count": 29,
     "metadata": {},
     "output_type": "execute_result"
    }
   ],
   "source": [
    "vecAssembler.getInputCols()"
   ]
  },
  {
   "cell_type": "code",
   "execution_count": 30,
   "id": "10e999e3-faf4-43e8-a420-aff691103fae",
   "metadata": {},
   "outputs": [
    {
     "data": {
      "text/plain": [
       "[('genderOHE', 0.0),\n",
       " ('smoking_statusOHE', 0.0),\n",
       " ('age', 0.48288159134498126),\n",
       " ('bmi', 0.3320852685003182),\n",
       " ('hypertension', 0.17217748163670465),\n",
       " ('heart_disease', 0.0011788325496875699),\n",
       " ('avg_glucose_level', 0.0046063362987090895)]"
      ]
     },
     "execution_count": 30,
     "metadata": {},
     "output_type": "execute_result"
    }
   ],
   "source": [
    "# A importância de cada atributo no modelo\n",
    "list(zip(vecAssembler.getInputCols(), dtc_category_model.featureImportances))"
   ]
  },
  {
   "cell_type": "code",
   "execution_count": 31,
   "id": "1f6db9b2-5417-4d3c-a975-56c6436e79fc",
   "metadata": {},
   "outputs": [
    {
     "name": "stdout",
     "output_type": "stream",
     "text": [
      "Coluna: genderOHE  Importancia: 0.0000\n",
      "Coluna: smoking_statusOHE  Importancia: 0.0000\n",
      "Coluna: age  Importancia: 0.4829\n",
      "Coluna: bmi  Importancia: 0.3321\n",
      "Coluna: hypertension  Importancia: 0.1722\n",
      "Coluna: heart_disease  Importancia: 0.0012\n",
      "Coluna: avg_glucose_level  Importancia: 0.0046\n"
     ]
    }
   ],
   "source": [
    "for coluna in zip(vecAssembler.getInputCols(), dtc_category_model.featureImportances):\n",
    "    print(f\"Coluna: {coluna[0]}  Importancia: {coluna[1]:.4f}\")"
   ]
  },
  {
   "cell_type": "markdown",
   "id": "fabb21be-a35b-44d7-8e4a-5bc3b01f78ba",
   "metadata": {
    "tags": []
   },
   "source": [
    "## Pergunta 15 - Quantos nodos a árvore de decisão possui?"
   ]
  },
  {
   "cell_type": "code",
   "execution_count": 33,
   "id": "cee89f17-a2c5-4660-ad28-6a9d3db84be5",
   "metadata": {},
   "outputs": [
    {
     "data": {
      "text/plain": [
       "DecisionTreeClassificationModel: uid=DecisionTreeClassifier_ff4d697f7556, depth=5, numNodes=21, numClasses=2, numFeatures=9"
      ]
     },
     "metadata": {},
     "output_type": "display_data"
    },
    {
     "data": {
      "text/plain": [
       "21"
      ]
     },
     "execution_count": 33,
     "metadata": {},
     "output_type": "execute_result"
    }
   ],
   "source": [
    "display(dtc_category_model)\n",
    "dtc_category_model.numNodes"
   ]
  }
 ],
 "metadata": {
  "kernelspec": {
   "display_name": "Python 3 (ipykernel)",
   "language": "python",
   "name": "python3"
  },
  "language_info": {
   "codemirror_mode": {
    "name": "ipython",
    "version": 3
   },
   "file_extension": ".py",
   "mimetype": "text/x-python",
   "name": "python",
   "nbconvert_exporter": "python",
   "pygments_lexer": "ipython3",
   "version": "3.10.4"
  }
 },
 "nbformat": 4,
 "nbformat_minor": 5
}
