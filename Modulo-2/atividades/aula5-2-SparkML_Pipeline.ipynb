{
 "cells": [
  {
   "cell_type": "markdown",
   "id": "6c34e960-dfc5-46e0-a737-892ee0fdbea5",
   "metadata": {},
   "source": [
    "# Aula 5.2 - SparkML e Pipelines"
   ]
  },
  {
   "cell_type": "code",
   "execution_count": 3,
   "id": "79105c40-06e4-4666-acde-31f50c9caacc",
   "metadata": {},
   "outputs": [
    {
     "data": {
      "text/plain": [
       "'3.2.1'"
      ]
     },
     "execution_count": 3,
     "metadata": {},
     "output_type": "execute_result"
    }
   ],
   "source": [
    "from pyspark.sql import SparkSession\n",
    "\n",
    "spark = SparkSession \\\n",
    "        .builder \\\n",
    "        .appName(\"Aula 5.2 - SparkML e Pipelines\") \\\n",
    "        .getOrCreate()\n",
    "    \n",
    "spark.version"
   ]
  },
  {
   "cell_type": "code",
   "execution_count": 4,
   "id": "a52e7637-7fe8-4917-9063-26e6de098516",
   "metadata": {},
   "outputs": [
    {
     "name": "stdout",
     "output_type": "stream",
     "text": [
      "root\n",
      " |-- age: integer (nullable = true)\n",
      " |-- workclass: string (nullable = true)\n",
      " |-- fnlwgt: integer (nullable = true)\n",
      " |-- education: string (nullable = true)\n",
      " |-- education_num: integer (nullable = true)\n",
      " |-- marital_status: string (nullable = true)\n",
      " |-- occupation: string (nullable = true)\n",
      " |-- relationship: string (nullable = true)\n",
      " |-- race: string (nullable = true)\n",
      " |-- sex: string (nullable = true)\n",
      " |-- capital_gain: integer (nullable = true)\n",
      " |-- capital_loss: integer (nullable = true)\n",
      " |-- hours_per_week: integer (nullable = true)\n",
      " |-- native_country: string (nullable = true)\n",
      " |-- income: string (nullable = true)\n",
      "\n"
     ]
    }
   ],
   "source": [
    "# Lendo o arquivo com os dados socioeconômicos\n",
    "income_df = spark.read.csv(\"/home/jovyan/work/income-dataset.csv\", header=True, inferSchema=True)\n",
    "income_df.printSchema()"
   ]
  },
  {
   "cell_type": "code",
   "execution_count": 5,
   "id": "0f96a7c9-8f14-4abd-bbd2-b21e85db0ad3",
   "metadata": {},
   "outputs": [
    {
     "name": "stdout",
     "output_type": "stream",
     "text": [
      "+---+----------------+------+---------+-------------+------------------+-----------------+-------------+-----+------+------------+------------+--------------+--------------+------+\n",
      "|age|       workclass|fnlwgt|education|education_num|    marital_status|       occupation| relationship| race|   sex|capital_gain|capital_loss|hours_per_week|native_country|income|\n",
      "+---+----------------+------+---------+-------------+------------------+-----------------+-------------+-----+------+------------+------------+--------------+--------------+------+\n",
      "| 39|       State-gov| 77516|Bachelors|           13|     Never-married|     Adm-clerical|Not-in-family|White|  Male|        2174|           0|            40| United-States| <=50K|\n",
      "| 50|Self-emp-not-inc| 83311|Bachelors|           13|Married-civ-spouse|  Exec-managerial|      Husband|White|  Male|           0|           0|            13| United-States| <=50K|\n",
      "| 38|         Private|215646|  HS-grad|            9|          Divorced|Handlers-cleaners|Not-in-family|White|  Male|           0|           0|            40| United-States| <=50K|\n",
      "| 53|         Private|234721|     11th|            7|Married-civ-spouse|Handlers-cleaners|      Husband|Black|  Male|           0|           0|            40| United-States| <=50K|\n",
      "| 28|         Private|338409|Bachelors|           13|Married-civ-spouse|   Prof-specialty|         Wife|Black|Female|           0|           0|            40|          Cuba| <=50K|\n",
      "+---+----------------+------+---------+-------------+------------------+-----------------+-------------+-----+------+------------+------------+--------------+--------------+------+\n",
      "only showing top 5 rows\n",
      "\n"
     ]
    }
   ],
   "source": [
    "income_df.show(5)"
   ]
  },
  {
   "cell_type": "code",
   "execution_count": 6,
   "id": "6c38d00d-cd6d-43bc-98f0-3673943d169b",
   "metadata": {},
   "outputs": [
    {
     "name": "stdout",
     "output_type": "stream",
     "text": [
      "+-------+------------------+\n",
      "|summary|               age|\n",
      "+-------+------------------+\n",
      "|  count|             48842|\n",
      "|   mean| 38.64358543876172|\n",
      "| stddev|13.710509934443603|\n",
      "|    min|                17|\n",
      "|    max|                90|\n",
      "+-------+------------------+\n",
      "\n"
     ]
    }
   ],
   "source": [
    "income_df.describe('age').show()"
   ]
  },
  {
   "cell_type": "code",
   "execution_count": 7,
   "id": "f1bcfe95-7b68-48eb-a095-6ad5ed33398b",
   "metadata": {},
   "outputs": [
    {
     "name": "stdout",
     "output_type": "stream",
     "text": [
      "+-------+------------------+\n",
      "|summary|    hours_per_week|\n",
      "+-------+------------------+\n",
      "|  count|             48842|\n",
      "|   mean|40.422382375824085|\n",
      "| stddev|12.391444024252301|\n",
      "|    min|                 1|\n",
      "|    25%|                40|\n",
      "|    50%|                40|\n",
      "|    75%|                45|\n",
      "|    max|                99|\n",
      "+-------+------------------+\n",
      "\n"
     ]
    }
   ],
   "source": [
    "income_df.select('hours_per_week').summary().show()"
   ]
  },
  {
   "cell_type": "code",
   "execution_count": 8,
   "id": "6cccc78d-5abd-4350-a611-7f813b2dbdd5",
   "metadata": {},
   "outputs": [
    {
     "name": "stdout",
     "output_type": "stream",
     "text": [
      "+-------+--------------+\n",
      "|summary|marital_status|\n",
      "+-------+--------------+\n",
      "|  count|         48842|\n",
      "|   mean|          null|\n",
      "| stddev|          null|\n",
      "|    min|      Divorced|\n",
      "|    25%|          null|\n",
      "|    50%|          null|\n",
      "|    75%|          null|\n",
      "|    max|       Widowed|\n",
      "+-------+--------------+\n",
      "\n"
     ]
    }
   ],
   "source": [
    "income_df.select('marital_status').summary().show()"
   ]
  },
  {
   "cell_type": "code",
   "execution_count": 9,
   "id": "2741bb41-2eca-4ded-801b-59802f36448a",
   "metadata": {},
   "outputs": [
    {
     "name": "stdout",
     "output_type": "stream",
     "text": [
      "+------+-----+\n",
      "|   sex|count|\n",
      "+------+-----+\n",
      "|  Male|32650|\n",
      "|Female|16192|\n",
      "+------+-----+\n",
      "\n"
     ]
    }
   ],
   "source": [
    "income_df.groupBy(\"sex\").count().sort(\"count\", ascending=False).show()"
   ]
  },
  {
   "cell_type": "code",
   "execution_count": 25,
   "id": "d2e01e87-d906-45b7-b8d2-64b3a6e3ac23",
   "metadata": {},
   "outputs": [],
   "source": [
    "from pyspark.ml.feature import StringIndexer, OneHotEncoder\n",
    "\n",
    "# Identifica as colunas categoricas\n",
    "categoricalCols = [\"workclass\", \"education\", \"marital_status\", \"occupation\", \"relationship\", \"race\", \"sex\"]\n",
    "\n",
    "# Cria estimadores (que implementam fit()) que retornam funções que vão ser aplicadas para transformar o dataset\n",
    "stringIndexer = StringIndexer(inputCols=categoricalCols, outputCols=[x + \"Index\" for x in categoricalCols])\n",
    "# Divide cada dado da categoria em uma coluna e atribui 1 quando for sua ocorrência para o registro\n",
    "oneHotEncoder = OneHotEncoder(inputCols=stringIndexer.getOutputCols(), outputCols=[x + \"OHE\" for x in categoricalCols])\n",
    "\n",
    "# A categoria que queremos prever tem dpis valores que são strings, '<=50K' e '>50K'\n",
    "# Usamos o estimador 'StringIndexer' para convertê-lo em um valor númerico\n",
    "labelToIndex = StringIndexer(inputCol=\"income\", outputCol=\"income_label\")"
   ]
  },
  {
   "cell_type": "code",
   "execution_count": 26,
   "id": "5bd6d3fc-a741-461e-8855-52c1db1ff14c",
   "metadata": {},
   "outputs": [],
   "source": [
    "from pyspark.ml.feature import VectorAssembler\n",
    "\n",
    "# Colunas númericas\n",
    "numericCols = [\"age\", \"fnlwgt\", \"education_num\", \"capital_gain\", \"capital_loss\", \"hours_per_week\"]\n",
    "\n",
    "# Todas as colunas\n",
    "allCols = [c + \"OHE\" for c in categoricalCols] + numericCols\n",
    "\n",
    "# VectorAsssembler é um transformer\n",
    "# Transforma um dataframe com colunas e um vetor com colunas\n",
    "# [age | hours_per_week | education_num] => [20, 40, 13]\n",
    "vecAssembler = VectorAssembler(inputCols=allCols, outputCol=\"features\")"
   ]
  },
  {
   "cell_type": "code",
   "execution_count": 27,
   "id": "da5b4d69-2123-495b-92d3-e3bec662158b",
   "metadata": {},
   "outputs": [],
   "source": [
    "from pyspark.ml.classification import DecisionTreeClassifier\n",
    "# Instanciar o modelo de aprendizado de máquina Árvore de Decisão\n",
    "dtc = DecisionTreeClassifier(labelCol='income_label',featuresCol='features')"
   ]
  },
  {
   "cell_type": "code",
   "execution_count": 29,
   "id": "f884a077-e129-41e9-8266-4bb2976654d1",
   "metadata": {},
   "outputs": [],
   "source": [
    "from pyspark.ml import Pipeline\n",
    "\n",
    "# Um pipeline é uma sequencia de estágios\n",
    "# É um estimador\n",
    "pipeline = Pipeline(stages=[stringIndexer, oneHotEncoder, labelToIndex, vecAssembler, dtc])\n",
    "\n",
    "# Separa os dados em dados de treinamento e teste\n",
    "train_data,test_data = income_df.randomSplit([0.7,0.3])\n",
    "\n",
    "# Pipeline é um estimador que recebe um dataframe e produz um Model\n",
    "pipelineModel = pipeline.fit(train_data)\n",
    "\n",
    "# Aplica o modelo do pipeline aos dados de teste\n",
    "predictionsDF = pipelineModel.transform(test_data)"
   ]
  },
  {
   "cell_type": "code",
   "execution_count": 30,
   "id": "c0965c6e-91de-4f42-bc8b-1ef49eff1d4f",
   "metadata": {},
   "outputs": [
    {
     "name": "stdout",
     "output_type": "stream",
     "text": [
      "Acurácia: 0.8438628773938527\n"
     ]
    }
   ],
   "source": [
    "from pyspark.ml.evaluation import MulticlassClassificationEvaluator\n",
    "\n",
    "# acurácia: % de previsões corretas\n",
    "evaluator = MulticlassClassificationEvaluator(metricName=\"accuracy\", labelCol='income_label')\n",
    "print(f\"Acurácia: {evaluator.evaluate(predictionsDF)}\")"
   ]
  },
  {
   "cell_type": "code",
   "execution_count": null,
   "id": "d71749c2-9502-46c8-aaff-db45573d050c",
   "metadata": {},
   "outputs": [],
   "source": []
  }
 ],
 "metadata": {
  "kernelspec": {
   "display_name": "Python 3 (ipykernel)",
   "language": "python",
   "name": "python3"
  },
  "language_info": {
   "codemirror_mode": {
    "name": "ipython",
    "version": 3
   },
   "file_extension": ".py",
   "mimetype": "text/x-python",
   "name": "python",
   "nbconvert_exporter": "python",
   "pygments_lexer": "ipython3",
   "version": "3.10.4"
  }
 },
 "nbformat": 4,
 "nbformat_minor": 5
}
