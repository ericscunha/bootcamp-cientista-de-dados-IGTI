{
 "cells": [
  {
   "cell_type": "markdown",
   "id": "d967b43f-75b4-4852-a8af-0c122b008bfd",
   "metadata": {},
   "source": [
    "# Aula Interativa 2 - Módulo 2 - Desenvolvimento de Soluções utilizando Spark"
   ]
  },
  {
   "cell_type": "code",
   "execution_count": 2,
   "id": "d6179ace-43f7-417c-9b48-b1eafd97b6cf",
   "metadata": {},
   "outputs": [
    {
     "data": {
      "text/plain": [
       "'3.2.1'"
      ]
     },
     "execution_count": 2,
     "metadata": {},
     "output_type": "execute_result"
    }
   ],
   "source": [
    "from pyspark.sql import SparkSession\n",
    "\n",
    "spark = SparkSession \\\n",
    "        .builder \\\n",
    "        .appName(\"aula interativa 2\") \\\n",
    "        .getOrCreate()\n",
    "\n",
    "spark.version"
   ]
  },
  {
   "cell_type": "code",
   "execution_count": 6,
   "id": "d8695d81-a63d-45c8-bd06-204e70b4ec35",
   "metadata": {},
   "outputs": [
    {
     "name": "stdout",
     "output_type": "stream",
     "text": [
      "root\n",
      " |-- PassengerId: integer (nullable = true)\n",
      " |-- Survived: integer (nullable = true)\n",
      " |-- Pclass: integer (nullable = true)\n",
      " |-- Name: string (nullable = true)\n",
      " |-- Sex: string (nullable = true)\n",
      " |-- Age: double (nullable = true)\n",
      " |-- SibSp: integer (nullable = true)\n",
      " |-- Parch: integer (nullable = true)\n",
      " |-- Ticket: string (nullable = true)\n",
      " |-- Fare: double (nullable = true)\n",
      " |-- Cabin: string (nullable = true)\n",
      " |-- Embarked: string (nullable = true)\n",
      "\n"
     ]
    }
   ],
   "source": [
    "titanic_df = spark.read.csv(\"/home/jovyan/work/titanic.csv\", header=\"True\", inferSchema=\"True\")\n",
    "                            \n",
    "titanic_df.printSchema()"
   ]
  },
  {
   "cell_type": "code",
   "execution_count": 9,
   "id": "85d11a1d-2690-48f6-8d74-c6fc622d286a",
   "metadata": {},
   "outputs": [
    {
     "data": {
      "text/plain": [
       "891"
      ]
     },
     "execution_count": 9,
     "metadata": {},
     "output_type": "execute_result"
    }
   ],
   "source": [
    "titanic_df.count()"
   ]
  },
  {
   "cell_type": "code",
   "execution_count": 10,
   "id": "cf164241-dff1-4c9e-b8ff-01d4b5fdd7c2",
   "metadata": {},
   "outputs": [
    {
     "name": "stdout",
     "output_type": "stream",
     "text": [
      "+--------+-----+\n",
      "|survived|count|\n",
      "+--------+-----+\n",
      "|       1|  342|\n",
      "|       0|  549|\n",
      "+--------+-----+\n",
      "\n"
     ]
    }
   ],
   "source": [
    "titanic_df.groupBy(\"survived\").count().show()"
   ]
  },
  {
   "cell_type": "code",
   "execution_count": 11,
   "id": "50047bf5-0d91-42e4-8028-16f38e681cb6",
   "metadata": {},
   "outputs": [
    {
     "name": "stdout",
     "output_type": "stream",
     "text": [
      "+--------+--------+\n",
      "|Survived|count(1)|\n",
      "+--------+--------+\n",
      "|       1|     342|\n",
      "|       0|     549|\n",
      "+--------+--------+\n",
      "\n"
     ]
    }
   ],
   "source": [
    "titanic_df.createOrReplaceTempView(\"table\")\n",
    "\n",
    "spark.sql(\"SELECT Survived, count(*) FROM table GROUP BY Survived\").show()"
   ]
  },
  {
   "cell_type": "code",
   "execution_count": 12,
   "id": "ae7936df-1a7c-4dc2-8866-7319401d6ad0",
   "metadata": {},
   "outputs": [
    {
     "name": "stdout",
     "output_type": "stream",
     "text": [
      "+--------+------------------+\n",
      "|Survived|         avg(Fare)|\n",
      "+--------+------------------+\n",
      "|       1| 48.39540760233917|\n",
      "|       0|22.117886885245877|\n",
      "+--------+------------------+\n",
      "\n"
     ]
    }
   ],
   "source": [
    "spark.sql(\"SELECT Survived, avg(Fare) FROM table GROUP BY Survived\").show()"
   ]
  },
  {
   "cell_type": "code",
   "execution_count": 14,
   "id": "dbaf5390-4e63-4efb-904a-79c7ef341874",
   "metadata": {},
   "outputs": [
    {
     "name": "stdout",
     "output_type": "stream",
     "text": [
      "+--------------------+\n",
      "|      upperUDF(Name)|\n",
      "+--------------------+\n",
      "|BRAUND, MR. OWEN ...|\n",
      "|CUMINGS, MRS. JOH...|\n",
      "|HEIKKINEN, MISS. ...|\n",
      "|FUTRELLE, MRS. JA...|\n",
      "|ALLEN, MR. WILLIA...|\n",
      "+--------------------+\n",
      "only showing top 5 rows\n",
      "\n"
     ]
    }
   ],
   "source": [
    "# Criando uma UDF\n",
    "def uppercase(str):\n",
    "    return str.upper()\n",
    "    \n",
    "spark.udf.register(\"upperUDF\", uppercase)\n",
    "\n",
    "spark.sql(\"SELECT upperUDF(Name) FROM table\").show(5)"
   ]
  },
  {
   "cell_type": "code",
   "execution_count": 24,
   "id": "46fae54f-845b-42a2-945e-7363aa847a96",
   "metadata": {},
   "outputs": [],
   "source": [
    "# Criando o modelo de Árvore de Decisão\n",
    "from pyspark.ml.classification import DecisionTreeClassifier\n",
    "\n",
    "dtc = DecisionTreeClassifier(labelCol=\"Survived\", featuresCol=\"features\")"
   ]
  },
  {
   "cell_type": "code",
   "execution_count": 48,
   "id": "1f9994b5-6db5-475c-a3e1-ecf949444ae3",
   "metadata": {},
   "outputs": [],
   "source": [
    "#\n",
    "from pyspark.ml.feature import VectorAssembler\n",
    "\n",
    "vector_assembler = VectorAssembler(inputCols=[\"Age\", \"Fare\", \"SexVector\"], outputCol=\"features\")"
   ]
  },
  {
   "cell_type": "code",
   "execution_count": 22,
   "id": "4e2347c7-e130-4473-9ae1-d95bd7dbbf92",
   "metadata": {},
   "outputs": [
    {
     "data": {
      "text/plain": [
       "29.69911764705882"
      ]
     },
     "execution_count": 22,
     "metadata": {},
     "output_type": "execute_result"
    }
   ],
   "source": [
    "mean_age = titanic_df.agg({\"Age\": \"mean\"}).collect()[0][0]\n",
    "mean_age"
   ]
  },
  {
   "cell_type": "code",
   "execution_count": 23,
   "id": "0c03dc1c-9a4e-494d-bdde-559a49e6f0ca",
   "metadata": {},
   "outputs": [],
   "source": [
    "titanic_df = titanic_df.fillna(mean_age, subset=[\"Age\"])"
   ]
  },
  {
   "cell_type": "code",
   "execution_count": 34,
   "id": "e6148ca5-13e7-4507-9f1a-02fafd3211dc",
   "metadata": {},
   "outputs": [],
   "source": [
    "# Dados categóricos\n",
    "from pyspark.ml.feature import StringIndexer, OneHotEncoder\n",
    "\n",
    "sex_indexer = StringIndexer(inputCol='Sex', outputCol='SexIndex')\n",
    "sex_encoder = OneHotEncoder(inputCol='SexIndex', outputCol='SexVector')"
   ]
  },
  {
   "cell_type": "code",
   "execution_count": 49,
   "id": "93a5f788-87a8-47c0-a6e5-fa9c528eb78e",
   "metadata": {},
   "outputs": [],
   "source": [
    "# Criando o pipeline\n",
    "from pyspark.ml import Pipeline\n",
    "\n",
    "pipeline = Pipeline(stages=[sex_indexer, sex_encoder, vector_assembler, dtc])"
   ]
  },
  {
   "cell_type": "code",
   "execution_count": 36,
   "id": "61e1444a-0bfd-498b-82a8-16fa8640a4a9",
   "metadata": {},
   "outputs": [],
   "source": [
    "# Dividir o dado em treino (70%) e teste do modelo (30%)\n",
    "train_data,test_data = titanic_df.randomSplit([0.7,0.3])"
   ]
  },
  {
   "cell_type": "code",
   "execution_count": 37,
   "id": "1326139a-d727-4def-9361-0b6719bcfce4",
   "metadata": {},
   "outputs": [],
   "source": [
    "pipelineModel = pipeline.fit(train_data)"
   ]
  },
  {
   "cell_type": "code",
   "execution_count": 38,
   "id": "d3ec6e72-b2b3-491d-8b0d-8a041d139ce9",
   "metadata": {},
   "outputs": [],
   "source": [
    "# testando o modelo\n",
    "dtc_predictions = pipelineModel.transform(test_data)"
   ]
  },
  {
   "cell_type": "code",
   "execution_count": 39,
   "id": "fe346a0a-3e0a-42b9-b17a-8cc80c77f06f",
   "metadata": {},
   "outputs": [
    {
     "data": {
      "text/plain": [
       "0.7786259541984732"
      ]
     },
     "execution_count": 39,
     "metadata": {},
     "output_type": "execute_result"
    }
   ],
   "source": [
    "# Avaliando o modelo\n",
    "from pyspark.ml.evaluation import MulticlassClassificationEvaluator\n",
    "\n",
    "acc_evaluator =  MulticlassClassificationEvaluator(labelCol=\"Survived\", predictionCol=\"prediction\", metricName=\"accuracy\")\n",
    "                                                   \n",
    "dtc_acc = acc_evaluator.evaluate(dtc_predictions)\n",
    "                                                   \n",
    "dtc_acc            "
   ]
  },
  {
   "cell_type": "code",
   "execution_count": 40,
   "id": "ee480ad7-7a76-4b54-98e2-cb1c84202686",
   "metadata": {},
   "outputs": [
    {
     "data": {
      "text/plain": [
       "5"
      ]
     },
     "execution_count": 40,
     "metadata": {},
     "output_type": "execute_result"
    }
   ],
   "source": [
    "dtcModel = pipelineModel.stages[3]\n",
    "\n",
    "dtcModel.depth"
   ]
  },
  {
   "cell_type": "code",
   "execution_count": 41,
   "id": "6eb82037-b7a0-4888-9b11-625022af929a",
   "metadata": {},
   "outputs": [
    {
     "data": {
      "text/plain": [
       "'DecisionTreeClassificationModel: uid=DecisionTreeClassifier_6339c68355c7, depth=5, numNodes=35, numClasses=2, numFeatures=3\\n  If (feature 2 in {1.0})\\n   If (feature 0 <= 8.5)\\n    If (feature 1 <= 21.0375)\\n     Predict: 1.0\\n    Else (feature 1 > 21.0375)\\n     If (feature 1 <= 54.270849999999996)\\n      If (feature 1 <= 26.125)\\n       Predict: 1.0\\n      Else (feature 1 > 26.125)\\n       Predict: 0.0\\n     Else (feature 1 > 54.270849999999996)\\n      Predict: 1.0\\n   Else (feature 0 > 8.5)\\n    If (feature 1 <= 26.125)\\n     If (feature 0 <= 14.75)\\n      If (feature 1 <= 12.4125)\\n       Predict: 1.0\\n      Else (feature 1 > 12.4125)\\n       Predict: 0.0\\n     Else (feature 0 > 14.75)\\n      Predict: 0.0\\n    Else (feature 1 > 26.125)\\n     If (feature 1 <= 30.5979)\\n      If (feature 0 <= 53.0)\\n       Predict: 1.0\\n      Else (feature 0 > 53.0)\\n       Predict: 0.0\\n     Else (feature 1 > 30.5979)\\n      Predict: 0.0\\n  Else (feature 2 not in {1.0})\\n   If (feature 1 <= 44.65)\\n    If (feature 1 <= 27.825)\\n     If (feature 1 <= 10.48125)\\n      If (feature 1 <= 8.0396)\\n       Predict: 1.0\\n      Else (feature 1 > 8.0396)\\n       Predict: 0.0\\n     Else (feature 1 > 10.48125)\\n      Predict: 1.0\\n    Else (feature 1 > 27.825)\\n     If (feature 1 <= 35.0771)\\n      Predict: 0.0\\n     Else (feature 1 > 35.0771)\\n      If (feature 0 <= 22.5)\\n       Predict: 1.0\\n      Else (feature 0 > 22.5)\\n       Predict: 0.0\\n   Else (feature 1 > 44.65)\\n    If (feature 0 <= 2.5)\\n     Predict: 0.0\\n    Else (feature 0 > 2.5)\\n     Predict: 1.0\\n'"
      ]
     },
     "execution_count": 41,
     "metadata": {},
     "output_type": "execute_result"
    }
   ],
   "source": [
    "dtcModel.toDebugString"
   ]
  },
  {
   "cell_type": "code",
   "execution_count": 42,
   "id": "0f4f3f0a-6125-400a-ac19-dc64efbb9582",
   "metadata": {},
   "outputs": [
    {
     "data": {
      "text/plain": [
       "SparseVector(3, {0: 0.106, 1: 0.2605, 2: 0.6335})"
      ]
     },
     "execution_count": 42,
     "metadata": {},
     "output_type": "execute_result"
    }
   ],
   "source": [
    "dtcModel.featureImportances"
   ]
  },
  {
   "cell_type": "code",
   "execution_count": 50,
   "id": "cac16ec1-625f-432c-a10e-1bca23561ff6",
   "metadata": {},
   "outputs": [
    {
     "data": {
      "text/plain": [
       "['Age', 'Fare', 'SexVector']"
      ]
     },
     "execution_count": 50,
     "metadata": {},
     "output_type": "execute_result"
    }
   ],
   "source": [
    "vector_assembler.getInputCols()"
   ]
  },
  {
   "cell_type": "code",
   "execution_count": 51,
   "id": "fa87121e-1d23-49e2-953e-fb3bfdbf5750",
   "metadata": {},
   "outputs": [
    {
     "data": {
      "text/plain": [
       "[('Age', 0.10599036747724096),\n",
       " ('Fare', 0.2605250560765023),\n",
       " ('SexVector', 0.6334845764462568)]"
      ]
     },
     "execution_count": 51,
     "metadata": {},
     "output_type": "execute_result"
    }
   ],
   "source": [
    "# A importância de cada atributo no modelo\n",
    "list(zip(vector_assembler.getInputCols(), dtcModel.featureImportances))"
   ]
  }
 ],
 "metadata": {
  "kernelspec": {
   "display_name": "Python 3 (ipykernel)",
   "language": "python",
   "name": "python3"
  },
  "language_info": {
   "codemirror_mode": {
    "name": "ipython",
    "version": 3
   },
   "file_extension": ".py",
   "mimetype": "text/x-python",
   "name": "python",
   "nbconvert_exporter": "python",
   "pygments_lexer": "ipython3",
   "version": "3.10.4"
  }
 },
 "nbformat": 4,
 "nbformat_minor": 5
}
