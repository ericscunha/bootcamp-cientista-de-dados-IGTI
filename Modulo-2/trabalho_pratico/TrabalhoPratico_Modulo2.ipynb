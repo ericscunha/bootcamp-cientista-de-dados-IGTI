{
 "cells": [
  {
   "cell_type": "code",
   "execution_count": 168,
   "id": "14c9a66b-55de-4f91-9b39-5c65e798d04e",
   "metadata": {},
   "outputs": [],
   "source": [
    "from pyspark.sql import *\n",
    "from pyspark.sql.functions import col, asc, desc, max, sum, abs, length"
   ]
  },
  {
   "cell_type": "code",
   "execution_count": 2,
   "id": "3905dec3-ede1-4919-b457-1167107263e7",
   "metadata": {},
   "outputs": [],
   "source": [
    "# Criando o SparkSessiso\n",
    "spark = (SparkSession.builatader\n",
    "        .appName(\"Map\")\n",
    "        .getOrCreate())"
   ]
  },
  {
   "cell_type": "code",
   "execution_count": 65,
   "id": "0c4af0e0-d571-4ce3-b979-d7e3e10481b6",
   "metadata": {},
   "outputs": [
    {
     "name": "stdout",
     "output_type": "stream",
     "text": [
      "root\n",
      " |-- date: string (nullable = true)\n",
      " |-- open: double (nullable = true)\n",
      " |-- high: double (nullable = true)\n",
      " |-- low: double (nullable = true)\n",
      " |-- close: double (nullable = true)\n",
      " |-- volume: integer (nullable = true)\n",
      " |-- Name: string (nullable = true)\n",
      "\n"
     ]
    }
   ],
   "source": [
    "data = spark.read.csv(\"/home/jovyan/work/all_stocks_5yr.csv\", header=True, inferSchema=True)\n",
    "\n",
    "data.printSchema()"
   ]
  },
  {
   "cell_type": "code",
   "execution_count": 67,
   "id": "004c2f5c-9cd6-40c0-83a4-09d390dbabb2",
   "metadata": {},
   "outputs": [
    {
     "name": "stdout",
     "output_type": "stream",
     "text": [
      "+----------+----+-----+-----+-------+-------+----+\n",
      "|      date|open| high|  low|  close| volume|Name|\n",
      "+----------+----+-----+-----+-------+-------+----+\n",
      "|2017-07-26|null| null| null|69.0842|      3| BHF|\n",
      "|2015-07-17|null|88.76|88.24|  88.72|2056819| DHR|\n",
      "|2016-01-12|null| null| null|  88.55|      0| DHR|\n",
      "|2015-07-17|null|48.49|47.85|  47.92|1246786|  ES|\n",
      "|2016-07-01|null| null| null|  49.54|      0| FTV|\n",
      "|2015-07-17|null|47.31|46.83|  46.99|1229513|   O|\n",
      "|2016-01-12|null| null| null|  52.43|      0|   O|\n",
      "|2015-06-09|null| null| null| 526.09|  12135|REGN|\n",
      "|2016-04-07|null| null| null|  41.56|      0|  UA|\n",
      "|2015-05-12|null| null| null| 124.08| 569747|VRTX|\n",
      "|2015-06-26|null| null| null|   61.9|    100| WRK|\n",
      "+----------+----+-----+-----+-------+-------+----+\n",
      "\n"
     ]
    }
   ],
   "source": [
    "# Retorna os registros nulos para os campos idedntificados\n",
    "dataNull = data.filter(col(\"open\").isNull() | col(\"high\").isNull() | col(\"low\").isNull() | col(\"close\").isNull() | col(\"date\").isNull() | col(\"volume\").isNull() | col(\"Name\").isNull())\n",
    "\n",
    "dataNull.show(100)"
   ]
  },
  {
   "cell_type": "code",
   "execution_count": 81,
   "id": "2826ef8e-dae9-4efa-9f24-f8889cb6090b",
   "metadata": {},
   "outputs": [],
   "source": [
    "# Atribui 0 (zero) aos valores nulos\n",
    "data = data.na.fill({\"open\": 0, \"high\": 0, \"low\": 0})"
   ]
  },
  {
   "cell_type": "code",
   "execution_count": 85,
   "id": "2a465d8e-d426-44ff-a7a7-0108e2bc68fe",
   "metadata": {},
   "outputs": [
    {
     "name": "stdout",
     "output_type": "stream",
     "text": [
      "+----+-----+\n",
      "| low|count|\n",
      "+----+-----+\n",
      "| 0.0|    8|\n",
      "| 1.5|    1|\n",
      "|1.53|    1|\n",
      "|1.56|    1|\n",
      "|1.61|    1|\n",
      "|1.62|    1|\n",
      "|1.63|    1|\n",
      "|1.65|    4|\n",
      "|1.66|    4|\n",
      "|1.68|    3|\n",
      "+----+-----+\n",
      "only showing top 10 rows\n",
      "\n"
     ]
    }
   ],
   "source": [
    "data.groupBy(\"open\").count().orderBy(asc(\"open\")).show(10)"
   ]
  },
  {
   "cell_type": "code",
   "execution_count": 86,
   "id": "9d1da006-a971-45f6-b119-42973c005121",
   "metadata": {},
   "outputs": [
    {
     "data": {
      "text/plain": [
       "619040"
      ]
     },
     "execution_count": 86,
     "metadata": {},
     "output_type": "execute_result"
    }
   ],
   "source": [
    "# Questão 1 - Total de registros\n",
    "data.count()"
   ]
  },
  {
   "cell_type": "code",
   "execution_count": 87,
   "id": "2b12f211-c77f-4305-923a-814b84a527c7",
   "metadata": {},
   "outputs": [
    {
     "name": "stdout",
     "output_type": "stream",
     "text": [
      "+----------+-----+-----+-----+-----+--------+----+\n",
      "|      date| open| high|  low|close|  volume|Name|\n",
      "+----------+-----+-----+-----+-----+--------+----+\n",
      "|2013-02-08|15.07|15.12|14.63|14.75| 8407500| AAL|\n",
      "|2013-02-11|14.89|15.01|14.26|14.46| 8882000| AAL|\n",
      "|2013-02-12|14.45|14.51| 14.1|14.27| 8126000| AAL|\n",
      "|2013-02-13| 14.3|14.94|14.25|14.66|10259500| AAL|\n",
      "|2013-02-14|14.94|14.96|13.16|13.99|31879900| AAL|\n",
      "|2013-02-15|13.93|14.61|13.93| 14.5|15628000| AAL|\n",
      "|2013-02-19|14.33|14.56|14.08|14.26|11354400| AAL|\n",
      "|2013-02-20|14.17|14.26|13.15|13.33|14725200| AAL|\n",
      "|2013-02-21|13.62|13.95| 12.9|13.37|11922100| AAL|\n",
      "|2013-02-22|13.57| 13.6|13.21|13.57| 6071400| AAL|\n",
      "+----------+-----+-----+-----+-----+--------+----+\n",
      "only showing top 10 rows\n",
      "\n"
     ]
    }
   ],
   "source": [
    "data.show(10)"
   ]
  },
  {
   "cell_type": "code",
   "execution_count": 93,
   "id": "5267490e-44c7-43d4-9191-f79a9fab3918",
   "metadata": {},
   "outputs": [
    {
     "data": {
      "text/plain": [
       "1259"
      ]
     },
     "execution_count": 93,
     "metadata": {},
     "output_type": "execute_result"
    }
   ],
   "source": [
    "# Questão 2 - Quantos registros há na planilha para a ação da Apple (AAPL)\n",
    "data.select(\"Name\").where(data.Name==\"AAPL\").count()"
   ]
  },
  {
   "cell_type": "code",
   "execution_count": 95,
   "id": "478c8e73-5a1f-4816-9f5f-77ccb13057f4",
   "metadata": {},
   "outputs": [
    {
     "name": "stdout",
     "output_type": "stream",
     "text": [
      "+--------------------+\n",
      "|count(DISTINCT Name)|\n",
      "+--------------------+\n",
      "|                 505|\n",
      "+--------------------+\n",
      "\n"
     ]
    }
   ],
   "source": [
    "# Questão 3 - Quantas empresas distintas têm registro nessa planilha\n",
    "data.createOrReplaceTempView(\"df\")\n",
    "spark.sql('Select count(distinct Name) from df').show()"
   ]
  },
  {
   "cell_type": "code",
   "execution_count": 96,
   "id": "2a20160a-587f-4307-b2f9-60bf02fbeac9",
   "metadata": {},
   "outputs": [
    {
     "name": "stdout",
     "output_type": "stream",
     "text": [
      "root\n",
      " |-- date: string (nullable = true)\n",
      " |-- open: double (nullable = false)\n",
      " |-- high: double (nullable = false)\n",
      " |-- low: double (nullable = false)\n",
      " |-- close: double (nullable = true)\n",
      " |-- volume: integer (nullable = true)\n",
      " |-- Name: string (nullable = true)\n",
      "\n"
     ]
    }
   ],
   "source": [
    "data.printSchema()"
   ]
  },
  {
   "cell_type": "code",
   "execution_count": 97,
   "id": "514f8926-935b-4323-b2d4-e8872491da44",
   "metadata": {},
   "outputs": [
    {
     "name": "stdout",
     "output_type": "stream",
     "text": [
      "+----------+-----+-----+-----+-----+--------+----+\n",
      "|      date| open| high|  low|close|  volume|Name|\n",
      "+----------+-----+-----+-----+-----+--------+----+\n",
      "|2013-02-08|15.07|15.12|14.63|14.75| 8407500| AAL|\n",
      "|2013-02-11|14.89|15.01|14.26|14.46| 8882000| AAL|\n",
      "|2013-02-12|14.45|14.51| 14.1|14.27| 8126000| AAL|\n",
      "|2013-02-13| 14.3|14.94|14.25|14.66|10259500| AAL|\n",
      "|2013-02-14|14.94|14.96|13.16|13.99|31879900| AAL|\n",
      "|2013-02-15|13.93|14.61|13.93| 14.5|15628000| AAL|\n",
      "|2013-02-19|14.33|14.56|14.08|14.26|11354400| AAL|\n",
      "|2013-02-20|14.17|14.26|13.15|13.33|14725200| AAL|\n",
      "|2013-02-21|13.62|13.95| 12.9|13.37|11922100| AAL|\n",
      "|2013-02-22|13.57| 13.6|13.21|13.57| 6071400| AAL|\n",
      "+----------+-----+-----+-----+-----+--------+----+\n",
      "only showing top 10 rows\n",
      "\n"
     ]
    }
   ],
   "source": [
    "data.show(10)"
   ]
  },
  {
   "cell_type": "code",
   "execution_count": 178,
   "id": "a7205cef-c2a6-4486-a34c-36fccc3be11e",
   "metadata": {},
   "outputs": [
    {
     "data": {
      "text/plain": [
       "'51.53%'"
      ]
     },
     "execution_count": 178,
     "metadata": {},
     "output_type": "execute_result"
    }
   ],
   "source": [
    "# Questão  4 -\n",
    "f\"{(data.filter(col('close') > col('open')).count() / data.count()) * 100:.2f}%\""
   ]
  },
  {
   "cell_type": "code",
   "execution_count": 99,
   "id": "41cad93e-019e-45e3-b7ce-d8bf6e8e6ec3",
   "metadata": {},
   "outputs": [
    {
     "name": "stdout",
     "output_type": "stream",
     "text": [
      "+------+\n",
      "|   qtd|\n",
      "+------+\n",
      "|300059|\n",
      "+------+\n",
      "\n"
     ]
    }
   ],
   "source": [
    "lower = spark.sql('Select count(*) as qtd from df where close <= open')\n",
    "lower.show()"
   ]
  },
  {
   "cell_type": "code",
   "execution_count": 101,
   "id": "3ef9cd96-303d-4717-9cc5-b2760c5919f1",
   "metadata": {},
   "outputs": [
    {
     "name": "stdout",
     "output_type": "stream",
     "text": [
      "+---------+---------+--------+----------+\n",
      "|max(open)|max(high)|max(low)|max(close)|\n",
      "+---------+---------+--------+----------+\n",
      "|   179.37|    180.1|  178.25|    179.26|\n",
      "+---------+---------+--------+----------+\n",
      "\n"
     ]
    }
   ],
   "source": [
    "# Questão 5 - Qual o maior valor das ações da Apple (AAPL) na história\n",
    "spark.sql('Select max(open), max(high), max(low), max(close) from df where Name = \"AAPL\"').show()"
   ]
  },
  {
   "cell_type": "code",
   "execution_count": 112,
   "id": "eaeb8fdf-d19b-4842-b5a5-270b0ae207a2",
   "metadata": {},
   "outputs": [
    {
     "name": "stdout",
     "output_type": "stream",
     "text": [
      "+----------+-------+-------+-------+-------+---------+----+------------------+\n",
      "|      date|   open|   high|    low|  close|   volume|Name|     desvio-padrao|\n",
      "+----------+-------+-------+-------+-------+---------+----+------------------+\n",
      "|2013-02-08|67.7142|68.4014|66.8928|67.8542|158168416|AAPL|30.556811676964696|\n",
      "|2013-02-11|68.0714|69.2771|67.6071|68.5614|129029425|AAPL|30.556811676964696|\n",
      "|2013-02-12|68.5014|68.9114|66.8205|66.8428|151829363|AAPL|30.556811676964696|\n",
      "|2013-02-13|66.7442|67.6628|66.1742|66.7156|118721995|AAPL|30.556811676964696|\n",
      "|2013-02-14|66.3599|67.3771|66.2885|66.6556| 88809154|AAPL|30.556811676964696|\n",
      "|2013-02-15|66.9785|67.1656|65.7028|65.7371| 97924631|AAPL|30.556811676964696|\n",
      "|2013-02-19|65.8714|66.1042|64.8356|65.7128|108854046|AAPL|30.556811676964696|\n",
      "|2013-02-20|65.3842|65.3842|64.1142|64.1214|118891367|AAPL|30.556811676964696|\n",
      "|2013-02-21|63.7142|64.1671|63.2599|63.7228|111596821|AAPL|30.556811676964696|\n",
      "|2013-02-22|64.1785|64.5142|63.7999|64.4014| 82583823|AAPL|30.556811676964696|\n",
      "|2013-02-25|64.8356|65.0171|63.2242|63.2571| 92899597|AAPL|30.556811676964696|\n",
      "|2013-02-26|63.4028|64.5056|62.5228|64.1385|125096657|AAPL|30.556811676964696|\n",
      "|2013-02-27|64.0614|64.6342|62.9499|63.5099|146674682|AAPL|30.556811676964696|\n",
      "|2013-02-28|63.4357|63.9814|63.0571|63.0571| 80532382|AAPL|30.556811676964696|\n",
      "|2013-03-01|62.5714|62.5971|61.4257|61.4957|137899041|AAPL|30.556811676964696|\n",
      "|2013-03-04|61.1142|61.1714|59.8571|60.0071|145406366|AAPL|30.556811676964696|\n",
      "|2013-03-05|60.2114|62.1699|60.1071|61.5919|159298020|AAPL|30.556811676964696|\n",
      "|2013-03-06|62.0728|62.1785|60.6328|60.8088|114903180|AAPL|30.556811676964696|\n",
      "|2013-03-07|60.6428|61.7157|60.1514|61.5117|116992841|AAPL|30.556811676964696|\n",
      "|2013-03-08|61.3999|62.2042|61.2299|61.6742| 97854442|AAPL|30.556811676964696|\n",
      "+----------+-------+-------+-------+-------+---------+----+------------------+\n",
      "only showing top 20 rows\n",
      "\n"
     ]
    }
   ],
   "source": [
    "# Questão 6 - Qual a ação tem maior volatilidade? Uma forma é medir o desvio-padrão do preço de fechamento de cada ação e considerar \n",
    "# a ação de maior desvio-padrão \n",
    "from pyspark.sql import functions\n",
    "from pyspark.sql import Window\n",
    "\n",
    "\n",
    "dataPartition = Window.partitionBy(\"Name\")\n",
    "\n",
    "dataDesvio = data.withColumn(\"desvio-padrao\", functions.stddev(\"close\").over(dataPartition))\n",
    "\n",
    "dataDesvio.show()"
   ]
  },
  {
   "cell_type": "code",
   "execution_count": 117,
   "id": "d1b1e7f5-72df-4ca0-b6ed-1669f9a09e7a",
   "metadata": {},
   "outputs": [
    {
     "name": "stdout",
     "output_type": "stream",
     "text": [
      "+----+----------------+\n",
      "|Name|   desvio-padrao|\n",
      "+----+----------------+\n",
      "|PCLN|320.533473018748|\n",
      "+----+----------------+\n",
      "\n"
     ]
    }
   ],
   "source": [
    "dataDesvio.select(\"Name\",\"desvio-padrao\") \\\n",
    "          .orderBy(desc(\"desvio-padrao\")) \\\n",
    "          .limit(1) \\\n",
    "          .show()"
   ]
  },
  {
   "cell_type": "code",
   "execution_count": 129,
   "id": "dd6a08c3-165e-4157-bb52-c5d6f73a6545",
   "metadata": {},
   "outputs": [
    {
     "name": "stdout",
     "output_type": "stream",
     "text": [
      "+----------+-----------+\n",
      "|      date|sum(volume)|\n",
      "+----------+-----------+\n",
      "|2015-08-24| 4607945196|\n",
      "+----------+-----------+\n",
      "\n"
     ]
    }
   ],
   "source": [
    "# Questão 7 - Qual o dia com maior volume de negociação da bolsa\n",
    "data_sum = data.groupBy(\"date\").agg({\"volume\": \"sum\"})\n",
    "\n",
    "data_sum.orderBy(desc(\"sum(volume)\")).limit(1).show()"
   ]
  },
  {
   "cell_type": "code",
   "execution_count": 130,
   "id": "d5f91e7d-ba89-4e83-b7df-dbd9f48697c1",
   "metadata": {},
   "outputs": [
    {
     "name": "stdout",
     "output_type": "stream",
     "text": [
      "+----+------------+\n",
      "|Name| sum(volume)|\n",
      "+----+------------+\n",
      "| BAC|117884953591|\n",
      "+----+------------+\n",
      "\n"
     ]
    }
   ],
   "source": [
    "# Questão 8 - Qual a ação mais negociada na bolsa, em volume de transações\n",
    "data_max = data.groupBy(\"Name\").agg({\"volume\": \"sum\"})\n",
    "\n",
    "data_max.orderBy(desc(\"sum(volume)\")).limit(1).show()"
   ]
  },
  {
   "cell_type": "code",
   "execution_count": 184,
   "id": "7e70230a-ba76-49ab-9d88-ea8981f1b8ab",
   "metadata": {},
   "outputs": [
    {
     "name": "stdout",
     "output_type": "stream",
     "text": [
      "+---+\n",
      "|qtd|\n",
      "+---+\n",
      "| 59|\n",
      "+---+\n",
      "\n"
     ]
    }
   ],
   "source": [
    "# Questão 9 - Quantas ações começam com a letra \"A\"\n",
    "spark.sql('Select count(distinct Name) as qtd from df where upper(Name) like \"A%\"').show()"
   ]
  },
  {
   "cell_type": "code",
   "execution_count": 180,
   "id": "6bcb7b9e-60fe-4a37-8f03-086d1da3d334",
   "metadata": {},
   "outputs": [
    {
     "data": {
      "text/plain": [
       "'1.20%'"
      ]
     },
     "execution_count": 180,
     "metadata": {},
     "output_type": "execute_result"
    }
   ],
   "source": [
    "# Questão 10 - Com qual frequência o preço mais alto do dia da ação também é o preço de fechamento\n",
    "f\"{(data.filter(col('high') == col('close')).count() / data.count()) * 100:.2f}%\""
   ]
  },
  {
   "cell_type": "code",
   "execution_count": 146,
   "id": "ee8b2031-5783-4047-99dd-da6734df8fb3",
   "metadata": {},
   "outputs": [
    {
     "name": "stdout",
     "output_type": "stream",
     "text": [
      "+----------+-------+-------+-------+-------+---------+----+--------------------+\n",
      "|      date|   open|   high|    low|  close|   volume|Name|            variacao|\n",
      "+----------+-------+-------+-------+-------+---------+----+--------------------+\n",
      "|2013-02-08|67.7142|68.4014|66.8928|67.8542|158168416|AAPL| 0.14000000000000057|\n",
      "|2013-02-11|68.0714|69.2771|67.6071|68.5614|129029425|AAPL|  0.4900000000000091|\n",
      "|2013-02-12|68.5014|68.9114|66.8205|66.8428|151829363|AAPL|   1.658600000000007|\n",
      "|2013-02-13|66.7442|67.6628|66.1742|66.7156|118721995|AAPL|0.028600000000011505|\n",
      "|2013-02-14|66.3599|67.3771|66.2885|66.6556| 88809154|AAPL| 0.29570000000001073|\n",
      "|2013-02-15|66.9785|67.1656|65.7028|65.7371| 97924631|AAPL|  1.2413999999999987|\n",
      "|2013-02-19|65.8714|66.1042|64.8356|65.7128|108854046|AAPL| 0.15859999999999275|\n",
      "|2013-02-20|65.3842|65.3842|64.1142|64.1214|118891367|AAPL|  1.2628000000000128|\n",
      "|2013-02-21|63.7142|64.1671|63.2599|63.7228|111596821|AAPL|0.008600000000001273|\n",
      "|2013-02-22|64.1785|64.5142|63.7999|64.4014| 82583823|AAPL| 0.22289999999999566|\n",
      "|2013-02-25|64.8356|65.0171|63.2242|63.2571| 92899597|AAPL|  1.5784999999999982|\n",
      "|2013-02-26|63.4028|64.5056|62.5228|64.1385|125096657|AAPL|  0.7356999999999942|\n",
      "|2013-02-27|64.0614|64.6342|62.9499|63.5099|146674682|AAPL|  0.5515000000000043|\n",
      "|2013-02-28|63.4357|63.9814|63.0571|63.0571| 80532382|AAPL|  0.3785999999999987|\n",
      "|2013-03-01|62.5714|62.5971|61.4257|61.4957|137899041|AAPL|  1.0756999999999977|\n",
      "|2013-03-04|61.1142|61.1714|59.8571|60.0071|145406366|AAPL|  1.1070999999999955|\n",
      "|2013-03-05|60.2114|62.1699|60.1071|61.5919|159298020|AAPL|   1.380500000000005|\n",
      "|2013-03-06|62.0728|62.1785|60.6328|60.8088|114903180|AAPL|   1.264000000000003|\n",
      "|2013-03-07|60.6428|61.7157|60.1514|61.5117|116992841|AAPL|  0.8688999999999965|\n",
      "|2013-03-08|61.3999|62.2042|61.2299|61.6742| 97854442|AAPL| 0.27429999999999666|\n",
      "+----------+-------+-------+-------+-------+---------+----+--------------------+\n",
      "only showing top 20 rows\n",
      "\n"
     ]
    }
   ],
   "source": [
    "# Questão 11 - Em qual dia a ação da Apple mais subiu entre a abertura e o fechamento, de forma absoluta\n",
    "data_variacao = data.where(data.Name==\"AAPL\") \n",
    "data_variacao = data_variacao.withColumn(\"variacao\", abs(col(\"close\") - col(\"open\")))\n",
    "\n",
    "data_variacao.show()"
   ]
  },
  {
   "cell_type": "code",
   "execution_count": 147,
   "id": "ab42aaff-f7e3-4209-b305-ebdb007885d2",
   "metadata": {},
   "outputs": [
    {
     "name": "stdout",
     "output_type": "stream",
     "text": [
      "+----------+-------------+\n",
      "|      date|max(variacao)|\n",
      "+----------+-------------+\n",
      "|2015-08-24|         8.25|\n",
      "+----------+-------------+\n",
      "\n"
     ]
    }
   ],
   "source": [
    "data_variacao = data_variacao.groupBy(\"date\").agg({\"variacao\": \"max\"})\n",
    "\n",
    "data_variacao.orderBy(desc(\"max(variacao)\")).limit(1).show()"
   ]
  },
  {
   "cell_type": "code",
   "execution_count": 162,
   "id": "231b1d70-64fd-447f-b3cf-65901e65d770",
   "metadata": {},
   "outputs": [
    {
     "name": "stdout",
     "output_type": "stream",
     "text": [
      "+------------+\n",
      "|media_volume|\n",
      "+------------+\n",
      "| 54047899.74|\n",
      "+------------+\n",
      "\n"
     ]
    }
   ],
   "source": [
    "# Questão 12 - Em média, qual o volume diário de transações das ações da AAPL\n",
    "from pyspark.sql.types import DecimalType\n",
    "\n",
    "data_media = spark.sql('Select avg(volume) as media_volume from df where upper(Name) like \"AAPL\"')\n",
    "data_media.withColumn(\"media_volume\", data_media.media_volume.cast(DecimalType(18, 2))).show()"
   ]
  },
  {
   "cell_type": "code",
   "execution_count": 175,
   "id": "15aa664d-70ae-47a6-b379-c1d25674f7f9",
   "metadata": {},
   "outputs": [
    {
     "name": "stdout",
     "output_type": "stream",
     "text": [
      "+-------+-----+\n",
      "|tamanho|count|\n",
      "+-------+-----+\n",
      "|      1|   10|\n",
      "|      2|   50|\n",
      "|      3|  323|\n",
      "|      4|  117|\n",
      "|      5|    5|\n",
      "+-------+-----+\n",
      "\n"
     ]
    }
   ],
   "source": [
    "# Questão 13 - Quantas ações tem 1, 2, 3, 4, 5 caracteres em seu nome, respectivamente\n",
    "data_name = spark.sql('Select distinct Name from df')\n",
    "data_name = data_name.withColumn('tamanho', length(data_name.Name))\n",
    "data_name.groupBy(\"tamanho\").count().orderBy(\"tamanho\").show()"
   ]
  },
  {
   "cell_type": "code",
   "execution_count": 176,
   "id": "6c5f9b9c-0cbb-4a83-b1dd-015b8f98c966",
   "metadata": {},
   "outputs": [
    {
     "name": "stdout",
     "output_type": "stream",
     "text": [
      "+----+-----------+\n",
      "|Name|sum(volume)|\n",
      "+----+-----------+\n",
      "|APTV|   92947779|\n",
      "+----+-----------+\n",
      "\n"
     ]
    }
   ],
   "source": [
    "# Questão 14 - Qual a ação menos negociada na bolsa, em volume de transações\n",
    "data_min = data.groupBy(\"Name\").agg({\"volume\": \"sum\"})\n",
    "\n",
    "data_min.orderBy(asc(\"sum(volume)\")).limit(1).show()"
   ]
  },
  {
   "cell_type": "code",
   "execution_count": 181,
   "id": "44345bee-7dfa-4bec-b0ad-2f16f6436add",
   "metadata": {},
   "outputs": [
    {
     "data": {
      "text/plain": [
       "'1.20%'"
      ]
     },
     "execution_count": 181,
     "metadata": {},
     "output_type": "execute_result"
    }
   ],
   "source": [
    "# Questão 15 - Com qual frequencia o preço do fechamento é também o mais alto do dia\n",
    "f\"{(data.filter(col('close') == col('high')).count() / data.count()) * 100:.2f}%\""
   ]
  },
  {
   "cell_type": "code",
   "execution_count": null,
   "id": "8c735524-9531-4a09-ac4e-da354568e526",
   "metadata": {},
   "outputs": [],
   "source": []
  }
 ],
 "metadata": {
  "kernelspec": {
   "display_name": "Python 3 (ipykernel)",
   "language": "python",
   "name": "python3"
  },
  "language_info": {
   "codemirror_mode": {
    "name": "ipython",
    "version": 3
   },
   "file_extension": ".py",
   "mimetype": "text/x-python",
   "name": "python",
   "nbconvert_exporter": "python",
   "pygments_lexer": "ipython3",
   "version": "3.10.4"
  }
 },
 "nbformat": 4,
 "nbformat_minor": 5
}
